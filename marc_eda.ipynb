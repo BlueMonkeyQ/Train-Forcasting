{
 "cells": [
  {
   "cell_type": "code",
   "execution_count": 1,
   "metadata": {},
   "outputs": [],
   "source": [
    "import pandas as pd\n",
    "import seaborn as sns\n",
    "from pathlib import Path"
   ]
  },
  {
   "cell_type": "code",
   "execution_count": 2,
   "metadata": {},
   "outputs": [],
   "source": [
    "Xtest = pd.read_csv(Path('data/Xtest.csv'))\n",
    "Xtrain = pd.read_csv(Path('data/Xtrain.csv'))\n",
    "Ytrain = pd.read_csv(Path('data/Ytrain.csv'))\n",
    "Ysample = pd.read_csv(Path('data/Ysample.csv'))"
   ]
  },
  {
   "attachments": {},
   "cell_type": "markdown",
   "metadata": {},
   "source": [
    "Rows and Columns of the data sets"
   ]
  },
  {
   "cell_type": "code",
   "execution_count": 3,
   "metadata": {},
   "outputs": [
    {
     "name": "stdout",
     "output_type": "stream",
     "text": [
      "X Training Set : (31119, 12)\n",
      "Y Training Set : (31119, 2)\n",
      "X Testing Set  : (13752, 12)\n",
      "Y Sample Set   : (13752, 2)\n"
     ]
    }
   ],
   "source": [
    "print('X Training Set :', Xtrain.shape)\n",
    "print('Y Training Set :',Ytrain.shape)\n",
    "print('X Testing Set  :',Xtest.shape)\n",
    "print('Y Sample Set   :',Ysample.shape)"
   ]
  },
  {
   "attachments": {},
   "cell_type": "markdown",
   "metadata": {},
   "source": [
    "Dataset structure\n",
    "\n",
    "    k is used to specify the train, s for the station and d for the day. One stop is given by the triplet k, s, d\n",
    "\n",
    "Contextual variables\n",
    "\n",
    "    date d: YYYYMMDD is the date of the train id run\n",
    "    train k: 1, 2, …, 55 train id (unique by day d)\n",
    "    station s: AA, AB, AC,… is the station id\n",
    "    hour: HH:00:00 is the time slot\n",
    "    way: 0, 1 is the train way with 0 (toward Paris) or 1 (toward suburb)\n",
    "    composition: 1, 2 is the number of train units (one or two)\n",
    "\n",
    "Lags variables\n",
    "\n",
    "    p1q0 ∈ [0,1] is the occupancy rate of the previous train k-1 at the same station s\n",
    "    p2q0 ∈ [0,1] is the occupancy rate of the second previous train k-2 at the same station s\n",
    "    p3q0 ∈ [0,1] is the occupancy rate of the third previous train k-3 at the same station s\n",
    "    p0q1 ∈ [0,1] is the occupancy rate of the same train k at the previous station s-1\n",
    "    p0q2 ∈ [0,1] is the occupancy rate of the same train k at the second previous station s-2\n",
    "    p0q3 ∈ [0,1] is the occupancy rate of the same train k at the third previous station s-3\n",
    "\n",
    "The lag variables are NA if the lag does not exist for the stop because of timetable structure\n"
   ]
  },
  {
   "cell_type": "code",
   "execution_count": 4,
   "metadata": {},
   "outputs": [
    {
     "name": "stdout",
     "output_type": "stream",
     "text": [
      "<class 'pandas.core.frame.DataFrame'>\n",
      "RangeIndex: 31119 entries, 0 to 31118\n",
      "Data columns (total 12 columns):\n",
      " #   Column       Non-Null Count  Dtype  \n",
      "---  ------       --------------  -----  \n",
      " 0   date         31119 non-null  object \n",
      " 1   train        31119 non-null  int64  \n",
      " 2   way          31119 non-null  int64  \n",
      " 3   station      31119 non-null  object \n",
      " 4   hour         27915 non-null  object \n",
      " 5   composition  31119 non-null  int64  \n",
      " 6   p1q0         29067 non-null  float64\n",
      " 7   p2q0         26974 non-null  float64\n",
      " 8   p3q0         24935 non-null  float64\n",
      " 9   p0q1         27917 non-null  float64\n",
      " 10  p0q2         24720 non-null  float64\n",
      " 11  p0q3         21527 non-null  float64\n",
      "dtypes: float64(6), int64(3), object(3)\n",
      "memory usage: 2.8+ MB\n",
      "None\n",
      "         date  train  way station      hour  composition  p1q0  p2q0  p3q0  \\\n",
      "0  2019-01-07      1    0      AD  06:00:00            2   NaN   NaN   NaN   \n",
      "1  2019-01-08      1    0      AD  06:00:00            2   NaN   NaN   NaN   \n",
      "2  2019-01-10      1    0      AD  06:00:00            2   NaN   NaN   NaN   \n",
      "3  2019-01-11      1    0      AD  06:00:00            2   NaN   NaN   NaN   \n",
      "4  2019-01-14      1    0      AD  06:00:00            2   NaN   NaN   NaN   \n",
      "\n",
      "    p0q1   p0q2   p0q3  \n",
      "0  0.201  0.138  0.091  \n",
      "1  0.204  0.152  0.106  \n",
      "2  0.213  0.153  0.111  \n",
      "3  0.213  0.152  0.108  \n",
      "4  0.210  0.147  0.096  \n"
     ]
    }
   ],
   "source": [
    "print(Xtrain.info())\n",
    "print(Xtrain.head())"
   ]
  },
  {
   "attachments": {},
   "cell_type": "markdown",
   "metadata": {},
   "source": [
    "Missing Values"
   ]
  },
  {
   "cell_type": "code",
   "execution_count": 5,
   "metadata": {},
   "outputs": [
    {
     "data": {
      "text/plain": [
       "date              0\n",
       "train             0\n",
       "way               0\n",
       "station           0\n",
       "hour           3204\n",
       "composition       0\n",
       "p1q0           2052\n",
       "p2q0           4145\n",
       "p3q0           6184\n",
       "p0q1           3202\n",
       "p0q2           6399\n",
       "p0q3           9592\n",
       "dtype: int64"
      ]
     },
     "execution_count": 5,
     "metadata": {},
     "output_type": "execute_result"
    }
   ],
   "source": [
    "Xtrain.isna().sum()"
   ]
  },
  {
   "attachments": {},
   "cell_type": "markdown",
   "metadata": {},
   "source": [
    "Unique Values"
   ]
  },
  {
   "cell_type": "code",
   "execution_count": 15,
   "metadata": {},
   "outputs": [
    {
     "name": "stdout",
     "output_type": "stream",
     "text": [
      "[0]\n",
      "[2 1]\n"
     ]
    }
   ],
   "source": [
    "print(Xtrain['way'].unique())\n",
    "print(Xtrain['composition'].unique())"
   ]
  },
  {
   "attachments": {},
   "cell_type": "markdown",
   "metadata": {},
   "source": [
    " Extract Day of Week and month from Date"
   ]
  },
  {
   "cell_type": "code",
   "execution_count": 23,
   "metadata": {},
   "outputs": [
    {
     "data": {
      "text/html": [
       "<div>\n",
       "<style scoped>\n",
       "    .dataframe tbody tr th:only-of-type {\n",
       "        vertical-align: middle;\n",
       "    }\n",
       "\n",
       "    .dataframe tbody tr th {\n",
       "        vertical-align: top;\n",
       "    }\n",
       "\n",
       "    .dataframe thead th {\n",
       "        text-align: right;\n",
       "    }\n",
       "</style>\n",
       "<table border=\"1\" class=\"dataframe\">\n",
       "  <thead>\n",
       "    <tr style=\"text-align: right;\">\n",
       "      <th></th>\n",
       "      <th>date</th>\n",
       "      <th>weekday</th>\n",
       "      <th>month</th>\n",
       "      <th>train</th>\n",
       "      <th>way</th>\n",
       "      <th>station</th>\n",
       "      <th>hour</th>\n",
       "      <th>composition</th>\n",
       "      <th>p1q0</th>\n",
       "      <th>p2q0</th>\n",
       "      <th>p3q0</th>\n",
       "      <th>p0q1</th>\n",
       "      <th>p0q2</th>\n",
       "      <th>p0q3</th>\n",
       "    </tr>\n",
       "  </thead>\n",
       "  <tbody>\n",
       "    <tr>\n",
       "      <th>0</th>\n",
       "      <td>2019-01-07</td>\n",
       "      <td>Monday</td>\n",
       "      <td>January</td>\n",
       "      <td>1</td>\n",
       "      <td>0</td>\n",
       "      <td>AD</td>\n",
       "      <td>06:00:00</td>\n",
       "      <td>2</td>\n",
       "      <td>NaN</td>\n",
       "      <td>NaN</td>\n",
       "      <td>NaN</td>\n",
       "      <td>0.201</td>\n",
       "      <td>0.138</td>\n",
       "      <td>0.091</td>\n",
       "    </tr>\n",
       "    <tr>\n",
       "      <th>1</th>\n",
       "      <td>2019-01-08</td>\n",
       "      <td>Tuesday</td>\n",
       "      <td>January</td>\n",
       "      <td>1</td>\n",
       "      <td>0</td>\n",
       "      <td>AD</td>\n",
       "      <td>06:00:00</td>\n",
       "      <td>2</td>\n",
       "      <td>NaN</td>\n",
       "      <td>NaN</td>\n",
       "      <td>NaN</td>\n",
       "      <td>0.204</td>\n",
       "      <td>0.152</td>\n",
       "      <td>0.106</td>\n",
       "    </tr>\n",
       "    <tr>\n",
       "      <th>2</th>\n",
       "      <td>2019-01-10</td>\n",
       "      <td>Thursday</td>\n",
       "      <td>January</td>\n",
       "      <td>1</td>\n",
       "      <td>0</td>\n",
       "      <td>AD</td>\n",
       "      <td>06:00:00</td>\n",
       "      <td>2</td>\n",
       "      <td>NaN</td>\n",
       "      <td>NaN</td>\n",
       "      <td>NaN</td>\n",
       "      <td>0.213</td>\n",
       "      <td>0.153</td>\n",
       "      <td>0.111</td>\n",
       "    </tr>\n",
       "    <tr>\n",
       "      <th>3</th>\n",
       "      <td>2019-01-11</td>\n",
       "      <td>Friday</td>\n",
       "      <td>January</td>\n",
       "      <td>1</td>\n",
       "      <td>0</td>\n",
       "      <td>AD</td>\n",
       "      <td>06:00:00</td>\n",
       "      <td>2</td>\n",
       "      <td>NaN</td>\n",
       "      <td>NaN</td>\n",
       "      <td>NaN</td>\n",
       "      <td>0.213</td>\n",
       "      <td>0.152</td>\n",
       "      <td>0.108</td>\n",
       "    </tr>\n",
       "    <tr>\n",
       "      <th>4</th>\n",
       "      <td>2019-01-14</td>\n",
       "      <td>Monday</td>\n",
       "      <td>January</td>\n",
       "      <td>1</td>\n",
       "      <td>0</td>\n",
       "      <td>AD</td>\n",
       "      <td>06:00:00</td>\n",
       "      <td>2</td>\n",
       "      <td>NaN</td>\n",
       "      <td>NaN</td>\n",
       "      <td>NaN</td>\n",
       "      <td>0.210</td>\n",
       "      <td>0.147</td>\n",
       "      <td>0.096</td>\n",
       "    </tr>\n",
       "    <tr>\n",
       "      <th>...</th>\n",
       "      <td>...</td>\n",
       "      <td>...</td>\n",
       "      <td>...</td>\n",
       "      <td>...</td>\n",
       "      <td>...</td>\n",
       "      <td>...</td>\n",
       "      <td>...</td>\n",
       "      <td>...</td>\n",
       "      <td>...</td>\n",
       "      <td>...</td>\n",
       "      <td>...</td>\n",
       "      <td>...</td>\n",
       "      <td>...</td>\n",
       "      <td>...</td>\n",
       "    </tr>\n",
       "    <tr>\n",
       "      <th>31114</th>\n",
       "      <td>2019-05-13</td>\n",
       "      <td>Monday</td>\n",
       "      <td>May</td>\n",
       "      <td>9</td>\n",
       "      <td>0</td>\n",
       "      <td>BE</td>\n",
       "      <td>08:00:00</td>\n",
       "      <td>2</td>\n",
       "      <td>0.152</td>\n",
       "      <td>0.18860</td>\n",
       "      <td>0.157000</td>\n",
       "      <td>0.080</td>\n",
       "      <td>0.100</td>\n",
       "      <td>NaN</td>\n",
       "    </tr>\n",
       "    <tr>\n",
       "      <th>31115</th>\n",
       "      <td>2019-05-14</td>\n",
       "      <td>Tuesday</td>\n",
       "      <td>May</td>\n",
       "      <td>9</td>\n",
       "      <td>0</td>\n",
       "      <td>BE</td>\n",
       "      <td>08:00:00</td>\n",
       "      <td>2</td>\n",
       "      <td>0.153</td>\n",
       "      <td>0.18040</td>\n",
       "      <td>0.191000</td>\n",
       "      <td>0.089</td>\n",
       "      <td>0.121</td>\n",
       "      <td>NaN</td>\n",
       "    </tr>\n",
       "    <tr>\n",
       "      <th>31116</th>\n",
       "      <td>2019-05-15</td>\n",
       "      <td>Wednesday</td>\n",
       "      <td>May</td>\n",
       "      <td>9</td>\n",
       "      <td>0</td>\n",
       "      <td>BE</td>\n",
       "      <td>08:00:00</td>\n",
       "      <td>2</td>\n",
       "      <td>0.166</td>\n",
       "      <td>0.14900</td>\n",
       "      <td>0.168000</td>\n",
       "      <td>0.099</td>\n",
       "      <td>0.129</td>\n",
       "      <td>NaN</td>\n",
       "    </tr>\n",
       "    <tr>\n",
       "      <th>31117</th>\n",
       "      <td>2019-03-21</td>\n",
       "      <td>Thursday</td>\n",
       "      <td>March</td>\n",
       "      <td>9</td>\n",
       "      <td>0</td>\n",
       "      <td>BE</td>\n",
       "      <td>08:00:00</td>\n",
       "      <td>2</td>\n",
       "      <td>0.182</td>\n",
       "      <td>0.19300</td>\n",
       "      <td>0.162000</td>\n",
       "      <td>0.074</td>\n",
       "      <td>0.101</td>\n",
       "      <td>NaN</td>\n",
       "    </tr>\n",
       "    <tr>\n",
       "      <th>31118</th>\n",
       "      <td>2019-01-30</td>\n",
       "      <td>Wednesday</td>\n",
       "      <td>January</td>\n",
       "      <td>9</td>\n",
       "      <td>0</td>\n",
       "      <td>BE</td>\n",
       "      <td>08:00:00</td>\n",
       "      <td>1</td>\n",
       "      <td>0.173</td>\n",
       "      <td>0.16928</td>\n",
       "      <td>0.187717</td>\n",
       "      <td>0.289</td>\n",
       "      <td>0.354</td>\n",
       "      <td>NaN</td>\n",
       "    </tr>\n",
       "  </tbody>\n",
       "</table>\n",
       "<p>31119 rows × 14 columns</p>\n",
       "</div>"
      ],
      "text/plain": [
       "            date    weekday    month  train  way station      hour  \\\n",
       "0     2019-01-07     Monday  January      1    0      AD  06:00:00   \n",
       "1     2019-01-08    Tuesday  January      1    0      AD  06:00:00   \n",
       "2     2019-01-10   Thursday  January      1    0      AD  06:00:00   \n",
       "3     2019-01-11     Friday  January      1    0      AD  06:00:00   \n",
       "4     2019-01-14     Monday  January      1    0      AD  06:00:00   \n",
       "...          ...        ...      ...    ...  ...     ...       ...   \n",
       "31114 2019-05-13     Monday      May      9    0      BE  08:00:00   \n",
       "31115 2019-05-14    Tuesday      May      9    0      BE  08:00:00   \n",
       "31116 2019-05-15  Wednesday      May      9    0      BE  08:00:00   \n",
       "31117 2019-03-21   Thursday    March      9    0      BE  08:00:00   \n",
       "31118 2019-01-30  Wednesday  January      9    0      BE  08:00:00   \n",
       "\n",
       "       composition   p1q0     p2q0      p3q0   p0q1   p0q2   p0q3  \n",
       "0                2    NaN      NaN       NaN  0.201  0.138  0.091  \n",
       "1                2    NaN      NaN       NaN  0.204  0.152  0.106  \n",
       "2                2    NaN      NaN       NaN  0.213  0.153  0.111  \n",
       "3                2    NaN      NaN       NaN  0.213  0.152  0.108  \n",
       "4                2    NaN      NaN       NaN  0.210  0.147  0.096  \n",
       "...            ...    ...      ...       ...    ...    ...    ...  \n",
       "31114            2  0.152  0.18860  0.157000  0.080  0.100    NaN  \n",
       "31115            2  0.153  0.18040  0.191000  0.089  0.121    NaN  \n",
       "31116            2  0.166  0.14900  0.168000  0.099  0.129    NaN  \n",
       "31117            2  0.182  0.19300  0.162000  0.074  0.101    NaN  \n",
       "31118            1  0.173  0.16928  0.187717  0.289  0.354    NaN  \n",
       "\n",
       "[31119 rows x 14 columns]"
      ]
     },
     "execution_count": 23,
     "metadata": {},
     "output_type": "execute_result"
    }
   ],
   "source": [
    "Xtrain_date = Xtrain.copy()\n",
    "\n",
    "# convert Time to Datetime\n",
    "Xtrain_date['date'] = pd.to_datetime(Xtrain_date['date'], format='%Y/%m/%d')\n",
    "\n",
    "# Add new column for weekday\n",
    "weekday = Xtrain_date['date'].dt.day_name()\n",
    "month = Xtrain_date['date'].dt.month_name()\n",
    "Xtrain_date.insert(1,'weekday',weekday)\n",
    "Xtrain_date.insert(2,'month',month)\n",
    "Xtrain_date"
   ]
  },
  {
   "cell_type": "code",
   "execution_count": 25,
   "metadata": {},
   "outputs": [
    {
     "data": {
      "text/plain": [
       "date           2019-01-10 00:00:00\n",
       "weekday                   Thursday\n",
       "month                      January\n",
       "train                            1\n",
       "way                              0\n",
       "station                         AX\n",
       "hour                           NaN\n",
       "composition                      2\n",
       "p1q0                           NaN\n",
       "p2q0                           NaN\n",
       "p3q0                           NaN\n",
       "p0q1                           NaN\n",
       "p0q2                           NaN\n",
       "p0q3                           NaN\n",
       "Name: 408, dtype: object"
      ]
     },
     "execution_count": 25,
     "metadata": {},
     "output_type": "execute_result"
    }
   ],
   "source": [
    "Xtrain_date.loc[408]"
   ]
  },
  {
   "cell_type": "code",
   "execution_count": 20,
   "metadata": {},
   "outputs": [
    {
     "data": {
      "text/plain": [
       "composition\n",
       "1       11\n",
       "2    31108\n",
       "dtype: int64"
      ]
     },
     "execution_count": 20,
     "metadata": {},
     "output_type": "execute_result"
    }
   ],
   "source": [
    "Xtrain.groupby(['composition']).size()"
   ]
  },
  {
   "attachments": {},
   "cell_type": "markdown",
   "metadata": {},
   "source": [
    "Number of weekday entry points"
   ]
  },
  {
   "cell_type": "code",
   "execution_count": 7,
   "metadata": {},
   "outputs": [
    {
     "name": "stdout",
     "output_type": "stream",
     "text": [
      "Unique Weekdays: ['Monday' 'Tuesday' 'Thursday' 'Friday' 'Wednesday']\n"
     ]
    },
    {
     "data": {
      "text/plain": [
       "<AxesSubplot: xlabel='count', ylabel='weekday'>"
      ]
     },
     "execution_count": 7,
     "metadata": {},
     "output_type": "execute_result"
    },
    {
     "data": {
      "image/png": "[encoded data removed]",
      "text/plain": [
       "<Figure size 640x480 with 1 Axes>"
      ]
     },
     "metadata": {},
     "output_type": "display_data"
    }
   ],
   "source": [
    "print(f'Unique Weekdays: {Xtrain_date[\"weekday\"].unique()}')\n",
    "sns.countplot(y=Xtrain_date['weekday'])"
   ]
  },
  {
   "attachments": {},
   "cell_type": "markdown",
   "metadata": {},
   "source": [
    "Number of Month entry points"
   ]
  },
  {
   "cell_type": "code",
   "execution_count": 8,
   "metadata": {},
   "outputs": [
    {
     "name": "stdout",
     "output_type": "stream",
     "text": [
      "Unique Montsh: ['January' 'February' 'March' 'April' 'May']\n"
     ]
    },
    {
     "data": {
      "text/plain": [
       "<AxesSubplot: xlabel='count', ylabel='month'>"
      ]
     },
     "execution_count": 8,
     "metadata": {},
     "output_type": "execute_result"
    },
    {
     "data": {
      "image/png": "[encoded data removed]",
      "text/plain": [
       "<Figure size 640x480 with 1 Axes>"
      ]
     },
     "metadata": {},
     "output_type": "display_data"
    }
   ],
   "source": [
    "print(f'Unique Montsh: {Xtrain_date[\"month\"].unique()}')\n",
    "sns.countplot(y=Xtrain_date['month'])"
   ]
  },
  {
   "attachments": {},
   "cell_type": "markdown",
   "metadata": {},
   "source": [
    "Number of hour entry points - most active hours?"
   ]
  },
  {
   "cell_type": "code",
   "execution_count": 9,
   "metadata": {},
   "outputs": [
    {
     "name": "stdout",
     "output_type": "stream",
     "text": [
      "Unique Times: ['06:00:00' '07:00:00' nan '08:00:00' '09:00:00' '11:00:00']\n"
     ]
    },
    {
     "data": {
      "text/plain": [
       "<AxesSubplot: xlabel='count', ylabel='hour'>"
      ]
     },
     "execution_count": 9,
     "metadata": {},
     "output_type": "execute_result"
    },
    {
     "data": {
      "image/png": "[encoded data removed]",
      "text/plain": [
       "<Figure size 640x480 with 1 Axes>"
      ]
     },
     "metadata": {},
     "output_type": "display_data"
    }
   ],
   "source": [
    "print(f'Unique Times: {Xtrain_date[\"hour\"].unique()}')\n",
    "sns.countplot(y=Xtrain_date['hour'])"
   ]
  }
 ],
 "metadata": {
  "kernelspec": {
   "display_name": "ml",
   "language": "python",
   "name": "python3"
  },
  "language_info": {
   "codemirror_mode": {
    "name": "ipython",
    "version": 3
   },
   "file_extension": ".py",
   "mimetype": "text/x-python",
   "name": "python",
   "nbconvert_exporter": "python",
   "pygments_lexer": "ipython3",
   "version": "3.9.16"
  },
  "orig_nbformat": 4,
  "vscode": {
   "interpreter": {
    "hash": "b6fc5cd48511ecd10d3c26d93de6d5b2c04734d2fa2d904932dd0139426cc44d"
   }
  }
 },
 "nbformat": 4,
 "nbformat_minor": 2
}
