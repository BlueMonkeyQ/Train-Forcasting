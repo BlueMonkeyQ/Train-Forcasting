{
 "cells": [
  {
   "cell_type": "code",
   "execution_count": 1,
   "metadata": {},
   "outputs": [],
   "source": [
    "import pandas as pd\n",
    "import seaborn as sns\n",
    "from pathlib import Path as path\n",
    "import matplotlib.pyplot as plt\n",
    "import numpy as np\n",
    "import math\n",
    "from sklearn.preprocessing import LabelEncoder\n",
    "from sklearn.model_selection import train_test_split\n",
    "from sklearn.linear_model import LinearRegression\n",
    "from sklearn.svm import SVR\n",
    "from sklearn.metrics import r2_score\n",
    "from sklearn.metrics import mean_squared_error\n",
    "\n",
    "import warnings\n",
    "warnings.filterwarnings('ignore')"
   ]
  },
  {
   "cell_type": "markdown",
   "metadata": {},
   "source": [
    "Training Data"
   ]
  },
  {
   "cell_type": "code",
   "execution_count": 2,
   "metadata": {},
   "outputs": [],
   "source": [
    "Xtrain = pd.read_csv(path('data/Xtrain.csv'))\n",
    "Ytrain = pd.read_csv(path('data/Ytrain.csv'))\n",
    "Ytrain = Ytrain.loc[:, ~Ytrain.columns.str.contains('^Unnamed')]\n",
    "TrainData = Xtrain\n",
    "TrainData = TrainData.merge(Ytrain, left_index= True, right_index= True)"
   ]
  },
  {
   "cell_type": "markdown",
   "metadata": {},
   "source": [
    "Data Cleaning"
   ]
  },
  {
   "cell_type": "code",
   "execution_count": 3,
   "metadata": {},
   "outputs": [],
   "source": [
    "def cleaning(dirty_df):\n",
    "    # Removing rows with 0 hour\n",
    "    dirty_df = dirty_df[dirty_df['hour'].isna() == False]\n",
    "    \n",
    "    # Add month, day, weekday, and intHour\n",
    "    dirty_df['date'] = pd.to_datetime(dirty_df['date'], format='%Y/%m/%d')\n",
    "    weekday = dirty_df['date'].dt.weekday\n",
    "    dirty_df.insert(1,'weekday',weekday)\n",
    "    month = dirty_df['date'].dt.month\n",
    "    dirty_df.insert(2,'month',month)\n",
    "    hour = pd.to_datetime(dirty_df['hour'], format='%H:%M:%S').dt.hour\n",
    "    dirty_df.insert(1,'intHour',hour)\n",
    "    \n",
    "    # P*q0\n",
    "    dirty_df.loc[(dirty_df['p1q0'].isna()) & (dirty_df['p2q0'].isna()) & (dirty_df['p3q0'].isna()), ['p1q0','p2q0','p3q0']] = 0\n",
    "    dirty_df.loc[(dirty_df['p1q0'].isna() == False) & (dirty_df['p2q0'].isna()) & (dirty_df['p3q0'].isna()), ['p2q0','p3q0']] = 0\n",
    "    for i, row in dirty_df.iterrows():\n",
    "        if math.isnan(row['p3q0']):\n",
    "            if row['p1q0'] > row['p2q0']:\n",
    "                diff = row['p1q0'] - (row['p1q0'] - row['p2q0'])\n",
    "            else:\n",
    "                diff = row['p2q0'] - (row['p2q0'] - row['p1q0'])\n",
    "            dirty_df.at[i,'p3q0'] = diff\n",
    "    # p0Q*\n",
    "    dirty_df.loc[(dirty_df['p0q1'].isna()) & (dirty_df['p0q2'].isna()) & (dirty_df['p0q3'].isna()), ['p0q1','p0q2','p0q3']] = 0\n",
    "    dirty_df.loc[(dirty_df['p0q1'].isna() == False) & (dirty_df['p0q2'].isna()) & (dirty_df['p0q3'].isna()), ['p0q2','p0q3']] = 0\n",
    "    for i, row in dirty_df.iterrows():\n",
    "        if math.isnan(row['p0q3']):\n",
    "            if row['p0q1'] > row['p0q2']:\n",
    "                diff = row['p0q1'] - (row['p0q1'] - row['p0q2'])\n",
    "            else:\n",
    "                diff = row['p0q2'] - (row['p0q2'] - row['p0q1'])\n",
    "            dirty_df.at[i,'p0q3'] = diff\n",
    "            \n",
    "    # Drop values\n",
    "    dirty_df = dirty_df.drop('date', axis=1)\n",
    "    dirty_df = dirty_df.drop('hour', axis=1)\n",
    "    dirty_df = dirty_df.drop('way', axis=1)\n",
    "    dirty_df = dirty_df.drop('composition', axis=1)\n",
    "    dirty_df = dirty_df[dirty_df['station'] != 'AR']\n",
    "    dirty_df = dirty_df[dirty_df['station'] != 'AZ']\n",
    "\n",
    "    # Sort by station\n",
    "    dirty_df = dirty_df.sort_values('station')\n",
    "\n",
    "    return dirty_df"
   ]
  },
  {
   "cell_type": "code",
   "execution_count": 4,
   "metadata": {},
   "outputs": [
    {
     "data": {
      "text/html": [
       "<div>\n",
       "<style scoped>\n",
       "    .dataframe tbody tr th:only-of-type {\n",
       "        vertical-align: middle;\n",
       "    }\n",
       "\n",
       "    .dataframe tbody tr th {\n",
       "        vertical-align: top;\n",
       "    }\n",
       "\n",
       "    .dataframe thead th {\n",
       "        text-align: right;\n",
       "    }\n",
       "</style>\n",
       "<table border=\"1\" class=\"dataframe\">\n",
       "  <thead>\n",
       "    <tr style=\"text-align: right;\">\n",
       "      <th></th>\n",
       "      <th>intHour</th>\n",
       "      <th>weekday</th>\n",
       "      <th>month</th>\n",
       "      <th>train</th>\n",
       "      <th>station</th>\n",
       "      <th>p1q0</th>\n",
       "      <th>p2q0</th>\n",
       "      <th>p3q0</th>\n",
       "      <th>p0q1</th>\n",
       "      <th>p0q2</th>\n",
       "      <th>p0q3</th>\n",
       "      <th>p0q0</th>\n",
       "    </tr>\n",
       "  </thead>\n",
       "  <tbody>\n",
       "    <tr>\n",
       "      <th>23231</th>\n",
       "      <td>8</td>\n",
       "      <td>4</td>\n",
       "      <td>3</td>\n",
       "      <td>48</td>\n",
       "      <td>AA</td>\n",
       "      <td>0.049000</td>\n",
       "      <td>0.05800</td>\n",
       "      <td>0.1190</td>\n",
       "      <td>0.036</td>\n",
       "      <td>0.046</td>\n",
       "      <td>0.087</td>\n",
       "      <td>0.112</td>\n",
       "    </tr>\n",
       "    <tr>\n",
       "      <th>21880</th>\n",
       "      <td>6</td>\n",
       "      <td>0</td>\n",
       "      <td>5</td>\n",
       "      <td>46</td>\n",
       "      <td>AA</td>\n",
       "      <td>0.045000</td>\n",
       "      <td>0.00000</td>\n",
       "      <td>0.0000</td>\n",
       "      <td>0.017</td>\n",
       "      <td>0.021</td>\n",
       "      <td>0.057</td>\n",
       "      <td>0.079</td>\n",
       "    </tr>\n",
       "    <tr>\n",
       "      <th>21881</th>\n",
       "      <td>6</td>\n",
       "      <td>3</td>\n",
       "      <td>3</td>\n",
       "      <td>46</td>\n",
       "      <td>AA</td>\n",
       "      <td>0.047000</td>\n",
       "      <td>0.00000</td>\n",
       "      <td>0.0000</td>\n",
       "      <td>0.025</td>\n",
       "      <td>0.030</td>\n",
       "      <td>0.069</td>\n",
       "      <td>0.088</td>\n",
       "    </tr>\n",
       "    <tr>\n",
       "      <th>21882</th>\n",
       "      <td>6</td>\n",
       "      <td>2</td>\n",
       "      <td>1</td>\n",
       "      <td>46</td>\n",
       "      <td>AA</td>\n",
       "      <td>0.047000</td>\n",
       "      <td>0.00000</td>\n",
       "      <td>0.0000</td>\n",
       "      <td>0.025</td>\n",
       "      <td>0.030</td>\n",
       "      <td>0.045</td>\n",
       "      <td>0.065</td>\n",
       "    </tr>\n",
       "    <tr>\n",
       "      <th>22493</th>\n",
       "      <td>7</td>\n",
       "      <td>0</td>\n",
       "      <td>1</td>\n",
       "      <td>47</td>\n",
       "      <td>AA</td>\n",
       "      <td>0.044000</td>\n",
       "      <td>0.08235</td>\n",
       "      <td>0.0440</td>\n",
       "      <td>0.048</td>\n",
       "      <td>0.057</td>\n",
       "      <td>0.105</td>\n",
       "      <td>0.139</td>\n",
       "    </tr>\n",
       "    <tr>\n",
       "      <th>...</th>\n",
       "      <td>...</td>\n",
       "      <td>...</td>\n",
       "      <td>...</td>\n",
       "      <td>...</td>\n",
       "      <td>...</td>\n",
       "      <td>...</td>\n",
       "      <td>...</td>\n",
       "      <td>...</td>\n",
       "      <td>...</td>\n",
       "      <td>...</td>\n",
       "      <td>...</td>\n",
       "      <td>...</td>\n",
       "    </tr>\n",
       "    <tr>\n",
       "      <th>23848</th>\n",
       "      <td>8</td>\n",
       "      <td>1</td>\n",
       "      <td>1</td>\n",
       "      <td>48</td>\n",
       "      <td>BJ</td>\n",
       "      <td>0.050000</td>\n",
       "      <td>0.10900</td>\n",
       "      <td>0.1660</td>\n",
       "      <td>0.129</td>\n",
       "      <td>0.049</td>\n",
       "      <td>0.099</td>\n",
       "      <td>0.146</td>\n",
       "    </tr>\n",
       "    <tr>\n",
       "      <th>23849</th>\n",
       "      <td>8</td>\n",
       "      <td>2</td>\n",
       "      <td>1</td>\n",
       "      <td>48</td>\n",
       "      <td>BJ</td>\n",
       "      <td>0.045333</td>\n",
       "      <td>0.08400</td>\n",
       "      <td>0.1755</td>\n",
       "      <td>0.124</td>\n",
       "      <td>0.042</td>\n",
       "      <td>0.094</td>\n",
       "      <td>0.143</td>\n",
       "    </tr>\n",
       "    <tr>\n",
       "      <th>23850</th>\n",
       "      <td>8</td>\n",
       "      <td>3</td>\n",
       "      <td>1</td>\n",
       "      <td>48</td>\n",
       "      <td>BJ</td>\n",
       "      <td>0.048000</td>\n",
       "      <td>0.16800</td>\n",
       "      <td>0.1450</td>\n",
       "      <td>0.114</td>\n",
       "      <td>0.061</td>\n",
       "      <td>0.087</td>\n",
       "      <td>0.132</td>\n",
       "    </tr>\n",
       "    <tr>\n",
       "      <th>23852</th>\n",
       "      <td>8</td>\n",
       "      <td>0</td>\n",
       "      <td>1</td>\n",
       "      <td>48</td>\n",
       "      <td>BJ</td>\n",
       "      <td>0.062000</td>\n",
       "      <td>0.08000</td>\n",
       "      <td>0.1520</td>\n",
       "      <td>0.134</td>\n",
       "      <td>0.052</td>\n",
       "      <td>0.102</td>\n",
       "      <td>0.153</td>\n",
       "    </tr>\n",
       "    <tr>\n",
       "      <th>23143</th>\n",
       "      <td>7</td>\n",
       "      <td>4</td>\n",
       "      <td>1</td>\n",
       "      <td>47</td>\n",
       "      <td>BJ</td>\n",
       "      <td>0.049000</td>\n",
       "      <td>0.09216</td>\n",
       "      <td>0.0490</td>\n",
       "      <td>0.130</td>\n",
       "      <td>0.051</td>\n",
       "      <td>0.094</td>\n",
       "      <td>0.140</td>\n",
       "    </tr>\n",
       "  </tbody>\n",
       "</table>\n",
       "<p>27266 rows × 12 columns</p>\n",
       "</div>"
      ],
      "text/plain": [
       "       intHour  weekday  month  train station      p1q0     p2q0    p3q0  \\\n",
       "23231        8        4      3     48      AA  0.049000  0.05800  0.1190   \n",
       "21880        6        0      5     46      AA  0.045000  0.00000  0.0000   \n",
       "21881        6        3      3     46      AA  0.047000  0.00000  0.0000   \n",
       "21882        6        2      1     46      AA  0.047000  0.00000  0.0000   \n",
       "22493        7        0      1     47      AA  0.044000  0.08235  0.0440   \n",
       "...        ...      ...    ...    ...     ...       ...      ...     ...   \n",
       "23848        8        1      1     48      BJ  0.050000  0.10900  0.1660   \n",
       "23849        8        2      1     48      BJ  0.045333  0.08400  0.1755   \n",
       "23850        8        3      1     48      BJ  0.048000  0.16800  0.1450   \n",
       "23852        8        0      1     48      BJ  0.062000  0.08000  0.1520   \n",
       "23143        7        4      1     47      BJ  0.049000  0.09216  0.0490   \n",
       "\n",
       "        p0q1   p0q2   p0q3   p0q0  \n",
       "23231  0.036  0.046  0.087  0.112  \n",
       "21880  0.017  0.021  0.057  0.079  \n",
       "21881  0.025  0.030  0.069  0.088  \n",
       "21882  0.025  0.030  0.045  0.065  \n",
       "22493  0.048  0.057  0.105  0.139  \n",
       "...      ...    ...    ...    ...  \n",
       "23848  0.129  0.049  0.099  0.146  \n",
       "23849  0.124  0.042  0.094  0.143  \n",
       "23850  0.114  0.061  0.087  0.132  \n",
       "23852  0.134  0.052  0.102  0.153  \n",
       "23143  0.130  0.051  0.094  0.140  \n",
       "\n",
       "[27266 rows x 12 columns]"
      ]
     },
     "execution_count": 4,
     "metadata": {},
     "output_type": "execute_result"
    }
   ],
   "source": [
    "TrainData = cleaning(TrainData)\n",
    "TrainData"
   ]
  },
  {
   "cell_type": "markdown",
   "metadata": {},
   "source": [
    "Label Encoding Station"
   ]
  },
  {
   "cell_type": "code",
   "execution_count": 5,
   "metadata": {},
   "outputs": [],
   "source": [
    "def label_enc(param):\n",
    "    LabelE = LabelEncoder()\n",
    "    LabelE.fit(param)\n",
    "    print(param.name,LabelE.classes_)\n",
    "    return LabelE.transform(param)"
   ]
  },
  {
   "cell_type": "code",
   "execution_count": 6,
   "metadata": {},
   "outputs": [
    {
     "name": "stdout",
     "output_type": "stream",
     "text": [
      "station ['AA' 'AB' 'AC' 'AD' 'AE' 'AF' 'AG' 'AH' 'AI' 'AJ' 'AK' 'AL' 'AM' 'AN'\n",
      " 'AO' 'AP' 'AQ' 'AS' 'AT' 'AU' 'AW' 'AY' 'BA' 'BB' 'BC' 'BD' 'BE' 'BF'\n",
      " 'BG' 'BH' 'BI' 'BJ']\n"
     ]
    },
    {
     "data": {
      "text/html": [
       "<div>\n",
       "<style scoped>\n",
       "    .dataframe tbody tr th:only-of-type {\n",
       "        vertical-align: middle;\n",
       "    }\n",
       "\n",
       "    .dataframe tbody tr th {\n",
       "        vertical-align: top;\n",
       "    }\n",
       "\n",
       "    .dataframe thead th {\n",
       "        text-align: right;\n",
       "    }\n",
       "</style>\n",
       "<table border=\"1\" class=\"dataframe\">\n",
       "  <thead>\n",
       "    <tr style=\"text-align: right;\">\n",
       "      <th></th>\n",
       "      <th>intHour</th>\n",
       "      <th>weekday</th>\n",
       "      <th>month</th>\n",
       "      <th>train</th>\n",
       "      <th>station</th>\n",
       "      <th>p1q0</th>\n",
       "      <th>p2q0</th>\n",
       "      <th>p3q0</th>\n",
       "      <th>p0q1</th>\n",
       "      <th>p0q2</th>\n",
       "      <th>p0q3</th>\n",
       "      <th>p0q0</th>\n",
       "    </tr>\n",
       "  </thead>\n",
       "  <tbody>\n",
       "    <tr>\n",
       "      <th>23231</th>\n",
       "      <td>8</td>\n",
       "      <td>4</td>\n",
       "      <td>3</td>\n",
       "      <td>48</td>\n",
       "      <td>0</td>\n",
       "      <td>0.049000</td>\n",
       "      <td>0.05800</td>\n",
       "      <td>0.1190</td>\n",
       "      <td>0.036</td>\n",
       "      <td>0.046</td>\n",
       "      <td>0.087</td>\n",
       "      <td>0.112</td>\n",
       "    </tr>\n",
       "    <tr>\n",
       "      <th>21880</th>\n",
       "      <td>6</td>\n",
       "      <td>0</td>\n",
       "      <td>5</td>\n",
       "      <td>46</td>\n",
       "      <td>0</td>\n",
       "      <td>0.045000</td>\n",
       "      <td>0.00000</td>\n",
       "      <td>0.0000</td>\n",
       "      <td>0.017</td>\n",
       "      <td>0.021</td>\n",
       "      <td>0.057</td>\n",
       "      <td>0.079</td>\n",
       "    </tr>\n",
       "    <tr>\n",
       "      <th>21881</th>\n",
       "      <td>6</td>\n",
       "      <td>3</td>\n",
       "      <td>3</td>\n",
       "      <td>46</td>\n",
       "      <td>0</td>\n",
       "      <td>0.047000</td>\n",
       "      <td>0.00000</td>\n",
       "      <td>0.0000</td>\n",
       "      <td>0.025</td>\n",
       "      <td>0.030</td>\n",
       "      <td>0.069</td>\n",
       "      <td>0.088</td>\n",
       "    </tr>\n",
       "    <tr>\n",
       "      <th>21882</th>\n",
       "      <td>6</td>\n",
       "      <td>2</td>\n",
       "      <td>1</td>\n",
       "      <td>46</td>\n",
       "      <td>0</td>\n",
       "      <td>0.047000</td>\n",
       "      <td>0.00000</td>\n",
       "      <td>0.0000</td>\n",
       "      <td>0.025</td>\n",
       "      <td>0.030</td>\n",
       "      <td>0.045</td>\n",
       "      <td>0.065</td>\n",
       "    </tr>\n",
       "    <tr>\n",
       "      <th>22493</th>\n",
       "      <td>7</td>\n",
       "      <td>0</td>\n",
       "      <td>1</td>\n",
       "      <td>47</td>\n",
       "      <td>0</td>\n",
       "      <td>0.044000</td>\n",
       "      <td>0.08235</td>\n",
       "      <td>0.0440</td>\n",
       "      <td>0.048</td>\n",
       "      <td>0.057</td>\n",
       "      <td>0.105</td>\n",
       "      <td>0.139</td>\n",
       "    </tr>\n",
       "    <tr>\n",
       "      <th>...</th>\n",
       "      <td>...</td>\n",
       "      <td>...</td>\n",
       "      <td>...</td>\n",
       "      <td>...</td>\n",
       "      <td>...</td>\n",
       "      <td>...</td>\n",
       "      <td>...</td>\n",
       "      <td>...</td>\n",
       "      <td>...</td>\n",
       "      <td>...</td>\n",
       "      <td>...</td>\n",
       "      <td>...</td>\n",
       "    </tr>\n",
       "    <tr>\n",
       "      <th>23848</th>\n",
       "      <td>8</td>\n",
       "      <td>1</td>\n",
       "      <td>1</td>\n",
       "      <td>48</td>\n",
       "      <td>31</td>\n",
       "      <td>0.050000</td>\n",
       "      <td>0.10900</td>\n",
       "      <td>0.1660</td>\n",
       "      <td>0.129</td>\n",
       "      <td>0.049</td>\n",
       "      <td>0.099</td>\n",
       "      <td>0.146</td>\n",
       "    </tr>\n",
       "    <tr>\n",
       "      <th>23849</th>\n",
       "      <td>8</td>\n",
       "      <td>2</td>\n",
       "      <td>1</td>\n",
       "      <td>48</td>\n",
       "      <td>31</td>\n",
       "      <td>0.045333</td>\n",
       "      <td>0.08400</td>\n",
       "      <td>0.1755</td>\n",
       "      <td>0.124</td>\n",
       "      <td>0.042</td>\n",
       "      <td>0.094</td>\n",
       "      <td>0.143</td>\n",
       "    </tr>\n",
       "    <tr>\n",
       "      <th>23850</th>\n",
       "      <td>8</td>\n",
       "      <td>3</td>\n",
       "      <td>1</td>\n",
       "      <td>48</td>\n",
       "      <td>31</td>\n",
       "      <td>0.048000</td>\n",
       "      <td>0.16800</td>\n",
       "      <td>0.1450</td>\n",
       "      <td>0.114</td>\n",
       "      <td>0.061</td>\n",
       "      <td>0.087</td>\n",
       "      <td>0.132</td>\n",
       "    </tr>\n",
       "    <tr>\n",
       "      <th>23852</th>\n",
       "      <td>8</td>\n",
       "      <td>0</td>\n",
       "      <td>1</td>\n",
       "      <td>48</td>\n",
       "      <td>31</td>\n",
       "      <td>0.062000</td>\n",
       "      <td>0.08000</td>\n",
       "      <td>0.1520</td>\n",
       "      <td>0.134</td>\n",
       "      <td>0.052</td>\n",
       "      <td>0.102</td>\n",
       "      <td>0.153</td>\n",
       "    </tr>\n",
       "    <tr>\n",
       "      <th>23143</th>\n",
       "      <td>7</td>\n",
       "      <td>4</td>\n",
       "      <td>1</td>\n",
       "      <td>47</td>\n",
       "      <td>31</td>\n",
       "      <td>0.049000</td>\n",
       "      <td>0.09216</td>\n",
       "      <td>0.0490</td>\n",
       "      <td>0.130</td>\n",
       "      <td>0.051</td>\n",
       "      <td>0.094</td>\n",
       "      <td>0.140</td>\n",
       "    </tr>\n",
       "  </tbody>\n",
       "</table>\n",
       "<p>27266 rows × 12 columns</p>\n",
       "</div>"
      ],
      "text/plain": [
       "       intHour  weekday  month  train  station      p1q0     p2q0    p3q0  \\\n",
       "23231        8        4      3     48        0  0.049000  0.05800  0.1190   \n",
       "21880        6        0      5     46        0  0.045000  0.00000  0.0000   \n",
       "21881        6        3      3     46        0  0.047000  0.00000  0.0000   \n",
       "21882        6        2      1     46        0  0.047000  0.00000  0.0000   \n",
       "22493        7        0      1     47        0  0.044000  0.08235  0.0440   \n",
       "...        ...      ...    ...    ...      ...       ...      ...     ...   \n",
       "23848        8        1      1     48       31  0.050000  0.10900  0.1660   \n",
       "23849        8        2      1     48       31  0.045333  0.08400  0.1755   \n",
       "23850        8        3      1     48       31  0.048000  0.16800  0.1450   \n",
       "23852        8        0      1     48       31  0.062000  0.08000  0.1520   \n",
       "23143        7        4      1     47       31  0.049000  0.09216  0.0490   \n",
       "\n",
       "        p0q1   p0q2   p0q3   p0q0  \n",
       "23231  0.036  0.046  0.087  0.112  \n",
       "21880  0.017  0.021  0.057  0.079  \n",
       "21881  0.025  0.030  0.069  0.088  \n",
       "21882  0.025  0.030  0.045  0.065  \n",
       "22493  0.048  0.057  0.105  0.139  \n",
       "...      ...    ...    ...    ...  \n",
       "23848  0.129  0.049  0.099  0.146  \n",
       "23849  0.124  0.042  0.094  0.143  \n",
       "23850  0.114  0.061  0.087  0.132  \n",
       "23852  0.134  0.052  0.102  0.153  \n",
       "23143  0.130  0.051  0.094  0.140  \n",
       "\n",
       "[27266 rows x 12 columns]"
      ]
     },
     "execution_count": 6,
     "metadata": {},
     "output_type": "execute_result"
    }
   ],
   "source": [
    "TrainData[\"station\"] = label_enc(TrainData[\"station\"])\n",
    "TrainData"
   ]
  },
  {
   "cell_type": "markdown",
   "metadata": {},
   "source": [
    "Model P*Q* with Stations"
   ]
  },
  {
   "cell_type": "code",
   "execution_count": 7,
   "metadata": {},
   "outputs": [],
   "source": [
    "def build_model(drop_columns):\n",
    "    model = TrainData.copy()\n",
    "    model = model.drop(columns=drop_columns, axis= 1)\n",
    "    return model"
   ]
  },
  {
   "cell_type": "code",
   "execution_count": 8,
   "metadata": {},
   "outputs": [],
   "source": [
    "def train_model(model):\n",
    "    Xtrain = model.drop(columns=['p0q0'], axis=1)\n",
    "    Ytrain = model['p0q0']\n",
    "\n",
    "    x_train, x_test, y_train, y_test = train_test_split(Xtrain, Ytrain, test_size = 0.2, random_state = 42)\n",
    "    LR = LinearRegression()\n",
    "    LR.fit(x_train,y_train)\n",
    "    y_prediction =  LR.predict(x_test)\n",
    "    \n",
    "    score = r2_score(y_test,y_prediction)\n",
    "    mse = mean_squared_error(y_test, y_prediction)\n",
    "\n",
    "    print(f'r2 socre is:            {round(score,2)}    ->  %{round(score*100,2)}')\n",
    "    print(f'Mean Squard Error is:     {round(mse,2)}    ->  %{round(mse*100,2)}')"
   ]
  },
  {
   "cell_type": "code",
   "execution_count": 22,
   "metadata": {},
   "outputs": [],
   "source": [
    "# kernel must be a string of the following: linear, rbf, poly, sigmoid\n",
    "def train_model_svm(model, kernel):\n",
    "    Xtrain = model.drop(columns=['p0q0'], axis=1)\n",
    "    Ytrain = model['p0q0']\n",
    "\n",
    "    x_train, x_test, y_train, y_test = train_test_split(Xtrain, Ytrain, test_size = 0.2, random_state = 42)\n",
    "    SVM = SVR(kernel=kernel)\n",
    "    SVM.fit(x_train,y_train)\n",
    "    y_prediction =  SVM.predict(x_test)\n",
    "    \n",
    "    score = r2_score(y_test,y_prediction)\n",
    "    mse = mean_squared_error(y_test, y_prediction)\n",
    "\n",
    "    print(f'r2 socre is:            {round(score,2)}    ->  %{round(score*100,2)}')\n",
    "    print(f'Mean Squard Error is:     {round(mse,2)}    ->  %{round(mse*100,2)}')"
   ]
  },
  {
   "cell_type": "markdown",
   "metadata": {},
   "source": [
    "# LR"
   ]
  },
  {
   "cell_type": "code",
   "execution_count": 10,
   "metadata": {},
   "outputs": [
    {
     "name": "stdout",
     "output_type": "stream",
     "text": [
      "r2 socre is:            0.91    ->  %91.3\n",
      "Mean Squard Error is:     0.0    ->  %0.2\n"
     ]
    }
   ],
   "source": [
    "droppedColumns = ['train']\n",
    "model = build_model(droppedColumns)\n",
    "train_model(model)"
   ]
  },
  {
   "cell_type": "code",
   "execution_count": 11,
   "metadata": {},
   "outputs": [
    {
     "name": "stdout",
     "output_type": "stream",
     "text": [
      "r2 socre is:            0.91    ->  %91.13\n",
      "Mean Squard Error is:     0.0    ->  %0.2\n"
     ]
    }
   ],
   "source": [
    "droppedColumns = ['train','station']\n",
    "model = build_model(droppedColumns)\n",
    "train_model(model)"
   ]
  },
  {
   "cell_type": "code",
   "execution_count": 12,
   "metadata": {},
   "outputs": [
    {
     "name": "stdout",
     "output_type": "stream",
     "text": [
      "r2 socre is:            0.92    ->  %91.5\n",
      "Mean Squard Error is:     0.0    ->  %0.19\n"
     ]
    }
   ],
   "source": [
    "droppedColumns = []\n",
    "model = build_model(droppedColumns)\n",
    "train_model(model)"
   ]
  },
  {
   "cell_type": "code",
   "execution_count": 20,
   "metadata": {},
   "outputs": [
    {
     "name": "stdout",
     "output_type": "stream",
     "text": [
      "r2 socre is:            0.91    ->  %91.0\n",
      "Mean Squard Error is:     0.0    ->  %0.2\n"
     ]
    }
   ],
   "source": [
    "droppedColumns = ['train', 'station', 'month', 'weekday', 'intHour']\n",
    "model = build_model(droppedColumns)\n",
    "train_model(model)"
   ]
  },
  {
   "cell_type": "markdown",
   "metadata": {},
   "source": [
    "# SVM"
   ]
  },
  {
   "cell_type": "code",
   "execution_count": 17,
   "metadata": {},
   "outputs": [
    {
     "name": "stdout",
     "output_type": "stream",
     "text": [
      "r2 socre is:            0.89    ->  %89.34\n",
      "Mean Squard Error is:     0.0    ->  %0.24\n"
     ]
    }
   ],
   "source": [
    "droppedColumns = ['train']\n",
    "model = build_model(droppedColumns)\n",
    "train_model_svm(model, \"linear\")"
   ]
  },
  {
   "cell_type": "code",
   "execution_count": 19,
   "metadata": {},
   "outputs": [
    {
     "name": "stdout",
     "output_type": "stream",
     "text": [
      "r2 socre is:            0.89    ->  %88.57\n",
      "Mean Squard Error is:     0.0    ->  %0.26\n"
     ]
    }
   ],
   "source": [
    "droppedColumns = ['train', 'station']\n",
    "model = build_model(droppedColumns)\n",
    "train_model_svm(model, \"linear\")"
   ]
  },
  {
   "cell_type": "code",
   "execution_count": 25,
   "metadata": {},
   "outputs": [
    {
     "name": "stdout",
     "output_type": "stream",
     "text": [
      "r2 socre is:            0.9    ->  %90.12\n",
      "Mean Squard Error is:     0.0    ->  %0.22\n"
     ]
    }
   ],
   "source": [
    "droppedColumns = []\n",
    "model = build_model(droppedColumns)\n",
    "train_model_svm(model, \"linear\")"
   ]
  },
  {
   "cell_type": "code",
   "execution_count": 24,
   "metadata": {},
   "outputs": [
    {
     "name": "stdout",
     "output_type": "stream",
     "text": [
      "r2 socre is:            0.89    ->  %88.61\n",
      "Mean Squard Error is:     0.0    ->  %0.26\n"
     ]
    }
   ],
   "source": [
    "droppedColumns = ['train', 'station', 'month', 'weekday', 'intHour']\n",
    "model = build_model(droppedColumns)\n",
    "train_model_svm(model, \"linear\")"
   ]
  },
  {
   "cell_type": "code",
   "execution_count": 26,
   "metadata": {},
   "outputs": [
    {
     "name": "stdout",
     "output_type": "stream",
     "text": [
      "r2 socre is:            0.86    ->  %85.59\n",
      "Mean Squard Error is:     0.0    ->  %0.33\n"
     ]
    }
   ],
   "source": [
    "droppedColumns = []\n",
    "model = build_model(droppedColumns)\n",
    "train_model_svm(model, \"rbf\")"
   ]
  },
  {
   "cell_type": "code",
   "execution_count": 27,
   "metadata": {},
   "outputs": [
    {
     "name": "stdout",
     "output_type": "stream",
     "text": [
      "r2 socre is:            0.72    ->  %71.76\n",
      "Mean Squard Error is:     0.01    ->  %0.64\n"
     ]
    }
   ],
   "source": [
    "droppedColumns = []\n",
    "model = build_model(droppedColumns)\n",
    "train_model_svm(model, \"poly\")"
   ]
  },
  {
   "cell_type": "code",
   "execution_count": 28,
   "metadata": {},
   "outputs": [
    {
     "name": "stdout",
     "output_type": "stream",
     "text": [
      "r2 socre is:            -7915342.54    ->  %-791534254.14\n",
      "Mean Squard Error is:     179224.32    ->  %17922431.66\n"
     ]
    }
   ],
   "source": [
    "droppedColumns = []\n",
    "model = build_model(droppedColumns)\n",
    "train_model_svm(model, \"sigmoid\")"
   ]
  }
 ],
 "metadata": {
  "kernelspec": {
   "display_name": "Python 3 (ipykernel)",
   "language": "python",
   "name": "python3"
  },
  "language_info": {
   "codemirror_mode": {
    "name": "ipython",
    "version": 3
   },
   "file_extension": ".py",
   "mimetype": "text/x-python",
   "name": "python",
   "nbconvert_exporter": "python",
   "pygments_lexer": "ipython3",
   "version": "3.9.7"
  }
 },
 "nbformat": 4,
 "nbformat_minor": 2
}
