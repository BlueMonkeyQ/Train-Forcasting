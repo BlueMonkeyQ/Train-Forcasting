{
 "cells": [
  {
   "cell_type": "markdown",
   "id": "0c2d3255",
   "metadata": {},
   "source": [
    "### Import necessary packages and read data into dataframe"
   ]
  },
  {
   "cell_type": "code",
   "execution_count": 3,
   "id": "915ce56f",
   "metadata": {},
   "outputs": [],
   "source": [
    "import pandas as pd\n",
    "import numpy as np\n",
    "import matplotlib.pyplot as plt\n",
    "# Used for determining days of the week\n",
    "import datetime\n",
    "# Used for isnan()\n",
    "import math\n",
    "from pathlib import Path"
   ]
  },
  {
   "cell_type": "code",
   "execution_count": null,
   "id": "69e0a6a6",
   "metadata": {},
   "outputs": [],
   "source": [
    "Xtest = pd.read_csv(Path('data/Xtest.csv'))\n",
    "Xtrain = pd.read_csv(Path('data/Xtrain.csv'))\n",
    "Ytrain = pd.read_csv(Path('data/Ytrain.csv'))\n",
    "Ysample = pd.read_csv(Path('data/Ysample.csv'))"
   ]
  },
  {
   "cell_type": "markdown",
   "id": "29bccf49",
   "metadata": {},
   "source": [
    "# Exploratory Data Analysis\n",
    "\n",
    "### The data is split into 12 variables; 6 contextual variables and 6 lag variables. The contextual variables are going to be analyzed first:\n",
    "\n",
    "* Date: The date the data was collected.\n",
    "* Train: An ID (unique by day) between 1 and 55 (inclusive).\n",
    "* Station: The ID of the station where the data was collected.\n",
    "* Hour: The hour (in format HH:00:00, 24 hour time) the data was collected.\n",
    "* Way: Whether the train is heading towards Paris (0) or away from Paris (1).\n",
    "* Composition: The number of train units, 1 or 2."
   ]
  },
  {
   "cell_type": "code",
   "execution_count": 29,
   "id": "26060196",
   "metadata": {},
   "outputs": [
    {
     "name": "stdout",
     "output_type": "stream",
     "text": [
      "Number of unique dates: 74\n"
     ]
    },
    {
     "data": {
      "image/png": "[encoded data removed]",
      "text/plain": [
       "<Figure size 432x288 with 1 Axes>"
      ]
     },
     "metadata": {
      "needs_background": "light"
     },
     "output_type": "display_data"
    },
    {
     "data": {
      "image/png": "[encoded data removed]",
      "text/plain": [
       "<Figure size 432x288 with 1 Axes>"
      ]
     },
     "metadata": {
      "needs_background": "light"
     },
     "output_type": "display_data"
    },
    {
     "data": {
      "image/png": "[encoded data removed]",
      "text/plain": [
       "<Figure size 432x288 with 1 Axes>"
      ]
     },
     "metadata": {},
     "output_type": "display_data"
    }
   ],
   "source": [
    "dates = []\n",
    "dateCount = 0\n",
    "months = [0, 0, 0, 0, 0, 0, 0, 0, 0, 0, 0, 0]\n",
    "days = [0, 0, 0, 0, 0, 0, 0]\n",
    "temp = 0\n",
    "\n",
    "for i in df[\"date\"]:\n",
    "    if i not in dates:\n",
    "        dates.append(i)\n",
    "        dateCount += 1\n",
    "        \n",
    "dates.sort()\n",
    "print(\"Number of unique dates: \" + str(dateCount))\n",
    "#print(\"List of unique dates (in chronological order):\")\n",
    "#print(dates)\n",
    "\n",
    "for i in dates:\n",
    "    temp = int(i[5:7])\n",
    "    months[temp - 1] += 1\n",
    "\n",
    "plt.bar([\"Jan\", \"Feb\", \"Mar\", \"Apr\", \"May\", \"June\", \"July\", \"Aug\", \"Sept\", \"Oct\", \"Nov\", \"Dec\"], months)\n",
    "plt.show()\n",
    "\n",
    "for i in dates:\n",
    "    temp = datetime.datetime(int(i[0:4]), int(i[5:7]), int(i[8:10])).weekday()\n",
    "    days[temp] += 1\n",
    "\n",
    "plt.bar([\"Mon\", \"Tues\", \"Wed\", \"Thur\", \"Fri\", \"Sat\", \"Sun\"], days)\n",
    "plt.show()\n",
    "plt.pie(days, labels=[\"Mon\", \"Tues\", \"Wed\", \"Thur\", \"Fri\", \"Sat\", \"Sun\"], autopct='%.0f%%')\n",
    "plt.show()"
   ]
  },
  {
   "cell_type": "code",
   "execution_count": 30,
   "id": "cb0f9951",
   "metadata": {},
   "outputs": [
    {
     "name": "stdout",
     "output_type": "stream",
     "text": [
      "Number of unique trains: 55\n",
      "List of stations (in numerical order): [1, 2, 3, 4, 5, 6, 7, 8, 9, 10, 11, 12, 13, 14, 15, 16, 17, 18, 19, 20, 21, 22, 23, 24, 25, 26, 27, 28, 29, 30, 31, 32, 33, 34, 35, 36, 37, 38, 39, 40, 41, 42, 43, 44, 45, 46, 47, 48, 49, 50, 51, 52, 53, 54, 55]\n"
     ]
    }
   ],
   "source": [
    "trains = []\n",
    "trainCount = 0\n",
    "\n",
    "for i in df[\"train\"]:\n",
    "    if i not in trains:\n",
    "        trains.append(i)\n",
    "        trainCount += 1\n",
    "        \n",
    "trains.sort()\n",
    "print(\"Number of unique trains: \" + str(trainCount))\n",
    "print(\"List of stations (in numerical order): \" + str(trains))"
   ]
  },
  {
   "cell_type": "code",
   "execution_count": 31,
   "id": "78df0a88",
   "metadata": {},
   "outputs": [
    {
     "name": "stdout",
     "output_type": "stream",
     "text": [
      "Number of stations: 36\n",
      "List of stations (in alphabetical order): ['AA', 'AB', 'AC', 'AD', 'AE', 'AF', 'AG', 'AH', 'AI', 'AJ', 'AK', 'AL', 'AM', 'AN', 'AO', 'AP', 'AQ', 'AR', 'AS', 'AT', 'AU', 'AV', 'AW', 'AX', 'AY', 'AZ', 'BA', 'BB', 'BC', 'BD', 'BE', 'BF', 'BG', 'BH', 'BI', 'BJ']\n"
     ]
    }
   ],
   "source": [
    "stations = []\n",
    "stationCount = 0\n",
    "\n",
    "for i in df[\"station\"]:\n",
    "    if i not in stations:\n",
    "        stations.append(i)\n",
    "        stationCount += 1\n",
    "        \n",
    "stations.sort()\n",
    "print(\"Number of stations: \" + str(stationCount))\n",
    "print(\"List of stations (in alphabetical order): \" + str(stations))"
   ]
  },
  {
   "cell_type": "code",
   "execution_count": 32,
   "id": "52e377fa",
   "metadata": {},
   "outputs": [
    {
     "name": "stdout",
     "output_type": "stream",
     "text": [
      "Number of unique hour slots: 6\n",
      "List of hours: ['06:00:00', '07:00:00', nan, '08:00:00', '09:00:00', '11:00:00']\n",
      "Note: nan stands for \"Not a Number\" and therefore represents a missing value.\n",
      "% of missing values: 10.299999999999999\n"
     ]
    }
   ],
   "source": [
    "hours = []\n",
    "hourCount = 0\n",
    "hoursIsNan = 0\n",
    "hoursIsntNan = 0\n",
    "\n",
    "for i in df[\"hour\"]:\n",
    "    if i not in hours:\n",
    "        hours.append(i)\n",
    "        hourCount += 1\n",
    "        \n",
    "    if str(i)[0:3] == \"nan\":\n",
    "        hoursIsNan += 1\n",
    "    else:\n",
    "        hoursIsntNan += 1\n",
    "    \n",
    "print(\"Number of unique hour slots: \" + str(hourCount))\n",
    "print(\"List of hours: \" + str(hours))\n",
    "print(\"Note: nan stands for \\\"Not a Number\\\" and therefore represents a missing value.\")\n",
    "print(\"% of missing values: \" + str(round((hoursIsNan / (hoursIsNan + hoursIsntNan)), 4) * 100))"
   ]
  },
  {
   "cell_type": "code",
   "execution_count": null,
   "id": "847bbf0c",
   "metadata": {},
   "outputs": [],
   "source": [
    "numToParis = 0\n",
    "numFromParis = 0\n",
    "\n",
    "for i in df[\"way\"]:\n",
    "    if i == 0:\n",
    "        numToParis += 1\n",
    "    else:\n",
    "        numFromParis += 1\n",
    "\n",
    "print(\"Number of trains to Paris:   \" + str(numToParis))\n",
    "print(\"Number of trains from Paris: \" + str(numFromParis))\n",
    "print(\"% of trains with going to Paris: \" + str(round((numToParis / (numToParis + numFromParis)), 4) * 100))"
   ]
  },
  {
   "cell_type": "code",
   "execution_count": null,
   "id": "22dce02b",
   "metadata": {},
   "outputs": [],
   "source": [
    "numOfCompOne = 0\n",
    "numOfCompTwo = 0\n",
    "\n",
    "for i in df[\"composition\"]:\n",
    "    if i == 1:\n",
    "        numOfCompOne += 1\n",
    "    else:\n",
    "        numOfCompTwo += 1\n",
    "\n",
    "print(\"Number of trains with one train unit:  \" + str(numOfCompOne))\n",
    "print(\"Number of trains with two train units: \" + str(numOfCompTwo))\n",
    "print(\"% of trains with one train unit: \" + str(round((numOfCompOne / (numOfCompOne + numOfCompTwo)), 4) * 100))"
   ]
  },
  {
   "cell_type": "markdown",
   "id": "6fac416f",
   "metadata": {},
   "source": [
    "### The six lag variables represent \"Crowding Factor\" (CF) and follow the naming scheme of pXqY, where p stands for the train and q stands for the station. CF is a floating point number between 0 and 1 in the form of 0.XYZ. p0q0 is the CF of the current train at the current station, p3q0 is the CF of the third previous train at the current station, and p0q3 is the CF of the current train at the third previous station. The six lag variables cover: \n",
    "\n",
    "* p1q0: The CF of the previous train k-1 at the same station s.\n",
    "* p2q0: The CF of the previous train k-2 at the same station s.\n",
    "* p3q0: The CF of the previous train k-3 at the same station s.\n",
    "* p0q1: The CF of the same train k at the previous station s-1.\n",
    "* p0q2: The CF of the same train k at the previous station s-2.\n",
    "* p0q3: The CF of the same train k at the previous station s-3.\n",
    "\n",
    "### Noticably, p0q0 is absent from the list of lag variables in the X_training set. This is because p0q0 is the value used in Y_train, and the value the machine learning algorithm is attempting to predict. \n",
    "\n",
    "### Finally, since the lag variables are all "
   ]
  },
  {
   "cell_type": "code",
   "execution_count": null,
   "id": "1c0655e7",
   "metadata": {},
   "outputs": [],
   "source": [
    "p1q0NAN = 0\n",
    "p2q0NAN = 0\n",
    "p3q0NAN = 0\n",
    "p0q1NAN = 0\n",
    "p0q2NAN = 0\n",
    "p0q3NAN = 0\n",
    "total = len(df[\"p1q0\"])\n",
    "\n",
    "for i in df[\"p1q0\"]:\n",
    "    if math.isnan(i):\n",
    "        p1q0NAN += 1\n",
    "        \n",
    "for i in df[\"p2q0\"]:\n",
    "    if math.isnan(i):\n",
    "        p2q0NAN += 1\n",
    "        \n",
    "for i in df[\"p3q0\"]:\n",
    "    if math.isnan(i):\n",
    "        p3q0NAN += 1\n",
    "        \n",
    "for i in df[\"p0q1\"]:\n",
    "    if math.isnan(i):\n",
    "        p0q1NAN += 1\n",
    "        \n",
    "for i in df[\"p0q2\"]:\n",
    "    if math.isnan(i):\n",
    "        p0q2NAN += 1\n",
    "        \n",
    "for i in df[\"p0q3\"]:\n",
    "    if math.isnan(i):\n",
    "        p0q3NAN += 1\n",
    "\n",
    "print(\"Number of p1q0 values that are not defined: \" + str(p1q0NAN) + \" / \" + str(total) + \"   (\" + str(round((p1q0NAN / total * 100), 2)) + \"% of total)\")\n",
    "print(\"Number of p2q0 values that are not defined: \" + str(p2q0NAN) + \" / \" + str(total) + \"   (\" + str(round((p2q0NAN / total * 100), 2)) + \"% of total)\")\n",
    "print(\"Number of p3q0 values that are not defined: \" + str(p3q0NAN) + \" / \" + str(total) + \"   (\" + str(round((p3q0NAN / total * 100), 2)) + \"% of total)\")\n",
    "print(\"Number of p0q1 values that are not defined: \" + str(p0q1NAN) + \" / \" + str(total) + \"   (\" + str(round((p0q1NAN / total * 100), 2)) + \"% of total)\")\n",
    "print(\"Number of p0q2 values that are not defined: \" + str(p0q2NAN) + \" / \" + str(total) + \"   (\" + str(round((p0q2NAN / total * 100), 2)) + \"% of total)\")\n",
    "print(\"Number of p0q3 values that are not defined: \" + str(p0q3NAN) + \" / \" + str(total) + \"   (\" + str(round((p0q3NAN / total * 100), 2)) + \"% of total)\")"
   ]
  },
  {
   "cell_type": "markdown",
   "id": "b1eb5beb",
   "metadata": {},
   "source": []
  }
 ],
 "metadata": {
  "kernelspec": {
   "display_name": "Python 3 (ipykernel)",
   "language": "python",
   "name": "python3"
  },
  "language_info": {
   "codemirror_mode": {
    "name": "ipython",
    "version": 3
   },
   "file_extension": ".py",
   "mimetype": "text/x-python",
   "name": "python",
   "nbconvert_exporter": "python",
   "pygments_lexer": "ipython3",
   "version": "3.9.7"
  }
 },
 "nbformat": 4,
 "nbformat_minor": 5
}
